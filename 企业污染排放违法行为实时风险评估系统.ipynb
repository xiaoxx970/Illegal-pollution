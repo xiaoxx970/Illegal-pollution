{
 "cells": [
  {
   "cell_type": "code",
   "execution_count": 1,
   "metadata": {},
   "outputs": [
    {
     "name": "stderr",
     "output_type": "stream",
     "text": [
      "/var/folders/gd/s1tym5b576ncs0wk41xz2_yc0000gn/T/ipykernel_22811/271499186.py:4: DtypeWarning: Columns (1,2,3) have mixed types. Specify dtype option on import or set low_memory=False.\n",
      "  pollution = pd.read_csv(\"all_data.csv\", encoding='utf-8')\n"
     ]
    },
    {
     "name": "stdout",
     "output_type": "stream",
     "text": [
      "<class 'pandas.core.frame.DataFrame'>\n",
      "RangeIndex: 1048576 entries, 0 to 1048575\n",
      "Data columns (total 6 columns):\n",
      " #   Column   Non-Null Count    Dtype  \n",
      "---  ------   --------------    -----  \n",
      " 0   企业编码     1048576 non-null  int64  \n",
      " 1    排污口编码   1048576 non-null  object \n",
      " 2    污染物编码   904156 non-null   object \n",
      " 3    记录时间    904156 non-null   object \n",
      " 4    污染物浓度   892674 non-null   float64\n",
      " 5    污染物排放量  821382 non-null   float64\n",
      "dtypes: float64(2), int64(1), object(3)\n",
      "memory usage: 48.0+ MB\n"
     ]
    },
    {
     "data": {
      "text/html": [
       "<div>\n",
       "<style scoped>\n",
       "    .dataframe tbody tr th:only-of-type {\n",
       "        vertical-align: middle;\n",
       "    }\n",
       "\n",
       "    .dataframe tbody tr th {\n",
       "        vertical-align: top;\n",
       "    }\n",
       "\n",
       "    .dataframe thead th {\n",
       "        text-align: right;\n",
       "    }\n",
       "</style>\n",
       "<table border=\"1\" class=\"dataframe\">\n",
       "  <thead>\n",
       "    <tr style=\"text-align: right;\">\n",
       "      <th></th>\n",
       "      <th>企业编码</th>\n",
       "      <th>污染物浓度</th>\n",
       "      <th>污染物排放量</th>\n",
       "    </tr>\n",
       "  </thead>\n",
       "  <tbody>\n",
       "    <tr>\n",
       "      <th>count</th>\n",
       "      <td>1.048576e+06</td>\n",
       "      <td>8.926740e+05</td>\n",
       "      <td>8.213820e+05</td>\n",
       "    </tr>\n",
       "    <tr>\n",
       "      <th>mean</th>\n",
       "      <td>4.955000e+16</td>\n",
       "      <td>-2.601322e+03</td>\n",
       "      <td>8.344807e+07</td>\n",
       "    </tr>\n",
       "    <tr>\n",
       "      <th>std</th>\n",
       "      <td>7.786389e+16</td>\n",
       "      <td>5.595077e+06</td>\n",
       "      <td>7.545968e+10</td>\n",
       "    </tr>\n",
       "    <tr>\n",
       "      <th>min</th>\n",
       "      <td>8.942100e+04</td>\n",
       "      <td>-5.157014e+09</td>\n",
       "      <td>-9.268390e+10</td>\n",
       "    </tr>\n",
       "    <tr>\n",
       "      <th>25%</th>\n",
       "      <td>1.728540e+13</td>\n",
       "      <td>3.950000e-01</td>\n",
       "      <td>2.500000e-01</td>\n",
       "    </tr>\n",
       "    <tr>\n",
       "      <th>50%</th>\n",
       "      <td>1.729084e+13</td>\n",
       "      <td>7.200000e+00</td>\n",
       "      <td>1.331325e+01</td>\n",
       "    </tr>\n",
       "    <tr>\n",
       "      <th>75%</th>\n",
       "      <td>1.728621e+17</td>\n",
       "      <td>1.942000e+01</td>\n",
       "      <td>3.864775e+02</td>\n",
       "    </tr>\n",
       "    <tr>\n",
       "      <th>max</th>\n",
       "      <td>1.732882e+17</td>\n",
       "      <td>7.659926e+08</td>\n",
       "      <td>6.838900e+13</td>\n",
       "    </tr>\n",
       "  </tbody>\n",
       "</table>\n",
       "</div>"
      ],
      "text/plain": [
       "               企业编码         污染物浓度        污染物排放量\n",
       "count  1.048576e+06  8.926740e+05  8.213820e+05\n",
       "mean   4.955000e+16 -2.601322e+03  8.344807e+07\n",
       "std    7.786389e+16  5.595077e+06  7.545968e+10\n",
       "min    8.942100e+04 -5.157014e+09 -9.268390e+10\n",
       "25%    1.728540e+13  3.950000e-01  2.500000e-01\n",
       "50%    1.729084e+13  7.200000e+00  1.331325e+01\n",
       "75%    1.728621e+17  1.942000e+01  3.864775e+02\n",
       "max    1.732882e+17  7.659926e+08  6.838900e+13"
      ]
     },
     "execution_count": 1,
     "metadata": {},
     "output_type": "execute_result"
    }
   ],
   "source": [
    "import pandas as pd\n",
    "import numpy as np\n",
    "import os\n",
    "pollution = pd.read_csv(\"all_data.csv\", encoding='utf-8')\n",
    "pollution.info()\n",
    "pollution.describe()"
   ]
  }
 ],
 "metadata": {
  "interpreter": {
   "hash": "b0fa6594d8f4cbf19f97940f81e996739fb7646882a419484c72d19e05852a7e"
  },
  "kernelspec": {
   "display_name": "Python 3.9.10 64-bit",
   "language": "python",
   "name": "python3"
  },
  "language_info": {
   "codemirror_mode": {
    "name": "ipython",
    "version": 3
   },
   "file_extension": ".py",
   "mimetype": "text/x-python",
   "name": "python",
   "nbconvert_exporter": "python",
   "pygments_lexer": "ipython3",
   "version": "3.9.10"
  },
  "orig_nbformat": 4
 },
 "nbformat": 4,
 "nbformat_minor": 2
}
